{
 "cells": [
  {
   "cell_type": "code",
   "execution_count": 1,
   "id": "ea4408e9-92b3-4966-9591-123ba7d4e24f",
   "metadata": {},
   "outputs": [],
   "source": [
    "import os\n",
    "import argparse\n",
    "import numpy as np"
   ]
  },
  {
   "cell_type": "code",
   "execution_count": 6,
   "id": "f1856ee5-fabf-4b7b-b2b6-58ee97b9d026",
   "metadata": {},
   "outputs": [
    {
     "name": "stdout",
     "output_type": "stream",
     "text": [
      "VOCAB_FILE: /veld/input/1/vocab.txt\n",
      "VECTOR_FILE: /veld/input/1/vectors.txt\n",
      "EVAL_FOLDER: /veld/input/2/src/glove/eval/question-data/\n"
     ]
    }
   ],
   "source": [
    "VOCAB_FILE = os.getenv(\"VOCAB_FILE\")\n",
    "VECTOR_FILE = os.getenv(\"VECTOR_FILE\") \n",
    "EVAL_FOLDER  = os.getenv(\"EVAL_FOLDER\")\n",
    "print(f\"VOCAB_FILE: {VOCAB_FILE}\")\n",
    "print(f\"VECTOR_FILE: {VECTOR_FILE}\")\n",
    "print(f\"EVAL_FOLDER: {EVAL_FOLDER}\")"
   ]
  },
  {
   "cell_type": "code",
   "execution_count": 3,
   "id": "f0d95045-0b29-4984-8c4e-18ab474e99ec",
   "metadata": {},
   "outputs": [],
   "source": [
    "VECTORS = {}\n",
    "with open(VECTOR_FILE, 'r') as f:\n",
    "    for line in f:\n",
    "        vals = line.rstrip().split(' ')\n",
    "        VECTORS[vals[0]] = [float(x) for x in vals[1:]]"
   ]
  },
  {
   "cell_type": "code",
   "execution_count": 4,
   "id": "54b7489e-747a-439f-ae44-2276a83684d2",
   "metadata": {},
   "outputs": [],
   "source": [
    "def get_cosine_similarity(w1, w2):\n",
    "    v1 = VECTORS[w1]\n",
    "    v2 = VECTORS[w2]\n",
    "    return np.dot(v1, v2) / (np.linalg.norm(v1) * np.linalg.norm(v2))"
   ]
  },
  {
   "cell_type": "code",
   "execution_count": 5,
   "id": "00eb91ed-bef9-40fd-95ce-778ab141445a",
   "metadata": {},
   "outputs": [],
   "source": [
    "def find_nearest(w1):\n",
    "    max_similarity = -1\n",
    "    nearest_word = None\n",
    "    for w2 in VECTORS.keys():\n",
    "        if w1 != w2:\n",
    "            similarity = get_cosine_similarity(w1, w2)\n",
    "            if similarity > max_similarity:\n",
    "                max_similarity = similarity\n",
    "                nearest_word = w2\n",
    "    return nearest_word"
   ]
  },
  {
   "cell_type": "code",
   "execution_count": null,
   "id": "2d545712-209a-45d4-84a2-f33b3472cde8",
   "metadata": {},
   "outputs": [],
   "source": [
    "\n",
    "\n",
    "def get_cosine_similarity_by_vectors(v1, v2):\n",
    "    return np.dot(v1, v2) / (np.linalg.norm(v1) * np.linalg.norm(v2))\n",
    "\n",
    "\n",
    "def get_nearest_by_vector(w1, v1):\n",
    "    max_similarity = -1\n",
    "    nearest_word = None\n",
    "    for w2, v2 in VECTORS.items():\n",
    "        if w1 != w2:\n",
    "            similarity = get_cosine_similarity_by_vectors(v1, v2)\n",
    "            if similarity > max_similarity:\n",
    "                max_similarity = similarity\n",
    "                nearest_word = w2\n",
    "    return nearest_word\n"
   ]
  }
 ],
 "metadata": {
  "kernelspec": {
   "display_name": "Python 3 (ipykernel)",
   "language": "python",
   "name": "python3"
  },
  "language_info": {
   "codemirror_mode": {
    "name": "ipython",
    "version": 3
   },
   "file_extension": ".py",
   "mimetype": "text/x-python",
   "name": "python",
   "nbconvert_exporter": "python",
   "pygments_lexer": "ipython3",
   "version": "3.9.2"
  }
 },
 "nbformat": 4,
 "nbformat_minor": 5
}
