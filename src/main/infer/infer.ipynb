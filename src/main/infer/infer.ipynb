{
 "cells": [
  {
   "cell_type": "markdown",
   "id": "403a90c4-593f-4987-9822-e3ff3ca59db1",
   "metadata": {},
   "source": [
    "# setup"
   ]
  },
  {
   "cell_type": "code",
   "execution_count": 1,
   "id": "ea4408e9-92b3-4966-9591-123ba7d4e24f",
   "metadata": {},
   "outputs": [],
   "source": [
    "import os\n",
    "import argparse\n",
    "import numpy as np"
   ]
  },
  {
   "cell_type": "code",
   "execution_count": 2,
   "id": "f1856ee5-fabf-4b7b-b2b6-58ee97b9d026",
   "metadata": {},
   "outputs": [
    {
     "name": "stdout",
     "output_type": "stream",
     "text": [
      "VECTOR_FILE: /veld/input/vectors.txt\n"
     ]
    }
   ],
   "source": [
    "VECTOR_FILE = os.getenv(\"VECTOR_FILE\") \n",
    "print(f\"VECTOR_FILE: {VECTOR_FILE}\")"
   ]
  },
  {
   "cell_type": "code",
   "execution_count": 3,
   "id": "f0d95045-0b29-4984-8c4e-18ab474e99ec",
   "metadata": {},
   "outputs": [],
   "source": [
    "VECTORS = {}\n",
    "with open(VECTOR_FILE, 'r') as f:\n",
    "    for line in f:\n",
    "        vals = line.rstrip().split(' ')\n",
    "        VECTORS[vals[0]] = np.array([float(x) for x in vals[1:]])"
   ]
  },
  {
   "cell_type": "markdown",
   "id": "927f5ad9-8763-4879-a9e3-a4022ae9a42f",
   "metadata": {},
   "source": [
    "# functions"
   ]
  },
  {
   "cell_type": "code",
   "execution_count": 4,
   "id": "b43dd100-b185-4caf-927b-c4a865a17977",
   "metadata": {},
   "outputs": [],
   "source": [
    "def get_cosine_similarity_of_vectors(v1, v2):\n",
    "    return np.dot(v1, v2) / (np.linalg.norm(v1) * np.linalg.norm(v2))"
   ]
  },
  {
   "cell_type": "code",
   "execution_count": 5,
   "id": "54b7489e-747a-439f-ae44-2276a83684d2",
   "metadata": {},
   "outputs": [],
   "source": [
    "def get_cosine_similarity_of_words(w1, w2):\n",
    "    v1 = VECTORS[w1.lower()]\n",
    "    v2 = VECTORS[w2.lower()]\n",
    "    return get_cosine_similarity_of_vectors(v1, v2)"
   ]
  },
  {
   "cell_type": "code",
   "execution_count": 6,
   "id": "e6ba8fa1-b3af-480a-a272-90f1ce958365",
   "metadata": {},
   "outputs": [],
   "source": [
    "def get_nearest_words_of_vector(v1, limit_results=None):\n",
    "    comparisons = []\n",
    "    for w2, v2 in VECTORS.items():\n",
    "        comparisons.append((w2, get_cosine_similarity_of_vectors(v1, v2)))\n",
    "    comparisons = sorted(comparisons, key=lambda x: -x[1])        \n",
    "    if limit_results is not None:\n",
    "        comparisons = comparisons[:limit_results]\n",
    "    return comparisons"
   ]
  },
  {
   "cell_type": "code",
   "execution_count": 7,
   "id": "a722a6ea-7bd4-40c8-9d19-52d1ff820d33",
   "metadata": {},
   "outputs": [],
   "source": [
    "def get_nearest_words_of_word(w1, limit_results=None):\n",
    "    v1 = VECTORS[w1]\n",
    "    return get_nearest_words_of_vector(v1, limit_results)"
   ]
  },
  {
   "cell_type": "markdown",
   "id": "c6bd2158-75cb-4843-9089-65af990a0fe1",
   "metadata": {},
   "source": [
    "# testing"
   ]
  },
  {
   "cell_type": "code",
   "execution_count": 8,
   "id": "cc61e68c-8fbd-4834-a552-cee44289b0a3",
   "metadata": {},
   "outputs": [
    {
     "name": "stdout",
     "output_type": "stream",
     "text": [
      "(50,)\n",
      "[ 0.096015 -0.096682  0.712446  0.328539 -0.23651  -1.474321 -0.029442\n",
      " -0.736665  0.526664 -1.273229 -0.027323  0.416276  1.191343  1.071498\n",
      " -0.918529 -0.007542  0.428583  0.364168  0.348376  0.197446  0.327013\n",
      " -0.586403 -0.037338  0.548331 -0.634218 -0.214358  0.394453  0.674985\n",
      " -0.388423 -0.711256  0.958919  0.243313 -0.596865 -0.49274   0.251286\n",
      "  0.684247 -0.152321 -0.499066  1.069465 -0.074243 -0.232348  0.317385\n",
      " -0.290931 -0.135448 -0.179189  0.948896 -1.538548  0.943505  0.117741\n",
      " -0.413323]\n",
      "(50,)\n",
      "[ 0.413997 -0.715977  0.882065 -0.086934  0.269493 -1.020816 -0.566689\n",
      " -1.021524  0.783288 -1.380319 -0.223243  0.39901   0.834728  1.061541\n",
      "  0.219635 -0.015897  0.771733  0.199281  0.382025 -0.251229  0.712457\n",
      "  0.370199  0.00492   0.594028 -0.425458 -0.981287  0.31461   0.491601\n",
      "  0.165573 -0.796892  0.628136  0.356457 -0.055861 -1.028748  0.083855\n",
      "  0.303463  0.215678 -0.672988  1.109875  0.79904  -0.387502  0.298688\n",
      "  0.474208 -0.055073  0.162977  0.730034 -1.715664  0.531049 -0.016102\n",
      " -0.985784]\n"
     ]
    }
   ],
   "source": [
    "v1 = VECTORS[\"woman\"]\n",
    "print(v1.shape)\n",
    "print(v1)\n",
    "v2 = VECTORS[\"man\"]\n",
    "print(v2.shape)\n",
    "print(v2)"
   ]
  },
  {
   "cell_type": "code",
   "execution_count": 9,
   "id": "58954128-0467-4125-b1c0-1358dc383c25",
   "metadata": {},
   "outputs": [
    {
     "name": "stdout",
     "output_type": "stream",
     "text": [
      "0.7952947101180879\n"
     ]
    }
   ],
   "source": [
    "print(get_cosine_similarity_of_words(\"woman\", \"man\"))"
   ]
  },
  {
   "cell_type": "code",
   "execution_count": 10,
   "id": "b095ddd5-0e67-4f26-89af-46af7eeb33c6",
   "metadata": {},
   "outputs": [
    {
     "data": {
      "text/plain": [
       "[('woman', 1.0000000000000002),\n",
       " ('man', 0.7952947101180879),\n",
       " ('child', 0.7806146936214137),\n",
       " ('young', 0.7562922416266591),\n",
       " ('person', 0.7267350203722399),\n",
       " ('children', 0.7239497013266021),\n",
       " ('girl', 0.7176226225869569),\n",
       " ('husband', 0.6984533750825099),\n",
       " ('female', 0.6947973660144121),\n",
       " ('wife', 0.6894388168312731),\n",
       " ('male', 0.6858978209260197),\n",
       " ('mother', 0.6734433603918374),\n",
       " ('she', 0.6652213993854329),\n",
       " ('pregnant', 0.661924485049929),\n",
       " ('men', 0.6589109848297353),\n",
       " ('women', 0.6584881682302154),\n",
       " ('adult', 0.6573114479805181),\n",
       " ('married', 0.6474592184630725),\n",
       " ('born', 0.6442165423027911),\n",
       " ('living', 0.6317649533348679)]"
      ]
     },
     "execution_count": 10,
     "metadata": {},
     "output_type": "execute_result"
    }
   ],
   "source": [
    "get_nearest_words_of_word(\"woman\", limit_results=20)"
   ]
  },
  {
   "cell_type": "code",
   "execution_count": 11,
   "id": "9cdd9985-1c19-475e-91aa-dd7e9b3a836e",
   "metadata": {},
   "outputs": [
    {
     "data": {
      "text/plain": [
       "[('man', 1.0),\n",
       " ('woman', 0.7952947101180879),\n",
       " ('my', 0.73484674315297),\n",
       " ('person', 0.7345752142068436),\n",
       " ('men', 0.7330896669750585),\n",
       " ('she', 0.727424508917398),\n",
       " ('love', 0.726554415712222),\n",
       " ('said', 0.7231162337200449),\n",
       " ('life', 0.7171124319835173),\n",
       " ('young', 0.7041745343157707),\n",
       " ('who', 0.6958270692565538),\n",
       " ('thing', 0.6841281755375672),\n",
       " ('like', 0.6809043909571346),\n",
       " ('father', 0.6751276156290783),\n",
       " ('girl', 0.6716541252654835),\n",
       " ('spirit', 0.6704746742563483),\n",
       " ('alone', 0.6686527012562634),\n",
       " ('another', 0.6661819937580753),\n",
       " ('he', 0.6649867068908999),\n",
       " ('good', 0.6647117318539704)]"
      ]
     },
     "execution_count": 11,
     "metadata": {},
     "output_type": "execute_result"
    }
   ],
   "source": [
    "get_nearest_words_of_word(\"man\", limit_results=20)"
   ]
  }
 ],
 "metadata": {
  "kernelspec": {
   "display_name": "Python 3 (ipykernel)",
   "language": "python",
   "name": "python3"
  },
  "language_info": {
   "codemirror_mode": {
    "name": "ipython",
    "version": 3
   },
   "file_extension": ".py",
   "mimetype": "text/x-python",
   "name": "python",
   "nbconvert_exporter": "python",
   "pygments_lexer": "ipython3",
   "version": "3.9.2"
  }
 },
 "nbformat": 4,
 "nbformat_minor": 5
}
