{
 "cells": [
  {
   "cell_type": "markdown",
   "id": "403a90c4-593f-4987-9822-e3ff3ca59db1",
   "metadata": {},
   "source": [
    "# setup"
   ]
  },
  {
   "cell_type": "code",
   "execution_count": 1,
   "id": "ea4408e9-92b3-4966-9591-123ba7d4e24f",
   "metadata": {},
   "outputs": [],
   "source": [
    "import os\n",
    "import argparse\n",
    "import numpy as np"
   ]
  },
  {
   "cell_type": "code",
   "execution_count": 2,
   "id": "f1856ee5-fabf-4b7b-b2b6-58ee97b9d026",
   "metadata": {},
   "outputs": [
    {
     "name": "stdout",
     "output_type": "stream",
     "text": [
      "VECTOR_FILE: /veld/input/data/m1/vectors.txt\n"
     ]
    }
   ],
   "source": [
    "VECTOR_FILE = os.getenv(\"VECTOR_FILE\") \n",
    "print(f\"VECTOR_FILE: {VECTOR_FILE}\")"
   ]
  },
  {
   "cell_type": "code",
   "execution_count": 3,
   "id": "f0d95045-0b29-4984-8c4e-18ab474e99ec",
   "metadata": {},
   "outputs": [],
   "source": [
    "VECTORS = {}\n",
    "with open(VECTOR_FILE, 'r') as f:\n",
    "    for line in f:\n",
    "        vals = line.rstrip().split(' ')\n",
    "        VECTORS[vals[0]] = np.array([float(x) for x in vals[1:]])"
   ]
  },
  {
   "cell_type": "markdown",
   "id": "927f5ad9-8763-4879-a9e3-a4022ae9a42f",
   "metadata": {},
   "source": [
    "# functions"
   ]
  },
  {
   "cell_type": "code",
   "execution_count": 4,
   "id": "b43dd100-b185-4caf-927b-c4a865a17977",
   "metadata": {},
   "outputs": [],
   "source": [
    "def get_cosine_similarity_of_vectors(v1, v2):\n",
    "    return np.dot(v1, v2) / (np.linalg.norm(v1) * np.linalg.norm(v2))"
   ]
  },
  {
   "cell_type": "code",
   "execution_count": 5,
   "id": "54b7489e-747a-439f-ae44-2276a83684d2",
   "metadata": {},
   "outputs": [],
   "source": [
    "def get_cosine_similarity_of_words(w1, w2):\n",
    "    v1 = VECTORS[w1.lower()]\n",
    "    v2 = VECTORS[w2.lower()]\n",
    "    return get_cosine_similarity_of_vectors(v1, v2)"
   ]
  },
  {
   "cell_type": "code",
   "execution_count": 6,
   "id": "e6ba8fa1-b3af-480a-a272-90f1ce958365",
   "metadata": {},
   "outputs": [],
   "source": [
    "def get_nearest_words_of_vector(v1, limit_results=None):\n",
    "    comparisons = []\n",
    "    for w2, v2 in VECTORS.items():\n",
    "        comparisons.append((w2, get_cosine_similarity_of_vectors(v1, v2)))\n",
    "    comparisons = sorted(comparisons, key=lambda x: -x[1])        \n",
    "    if limit_results is not None:\n",
    "        comparisons = comparisons[:limit_results]\n",
    "    return comparisons"
   ]
  },
  {
   "cell_type": "code",
   "execution_count": 7,
   "id": "a722a6ea-7bd4-40c8-9d19-52d1ff820d33",
   "metadata": {},
   "outputs": [],
   "source": [
    "def get_nearest_words_of_word(w1, limit_results=None):\n",
    "    v1 = VECTORS[w1.lower()]\n",
    "    return get_nearest_words_of_vector(v1, limit_results)"
   ]
  },
  {
   "cell_type": "markdown",
   "id": "c6bd2158-75cb-4843-9089-65af990a0fe1",
   "metadata": {},
   "source": [
    "# testing"
   ]
  },
  {
   "cell_type": "code",
   "execution_count": 8,
   "id": "a9c961d0-f217-41a2-95ae-eb8f61c556ad",
   "metadata": {},
   "outputs": [],
   "source": [
    "w1 = \"frau\"\n",
    "w2 = \"mann\""
   ]
  },
  {
   "cell_type": "code",
   "execution_count": 9,
   "id": "cc61e68c-8fbd-4834-a552-cee44289b0a3",
   "metadata": {},
   "outputs": [
    {
     "name": "stdout",
     "output_type": "stream",
     "text": [
      "(50,)\n",
      "[-0.02465  -0.682123  0.339394  0.852501 -0.38473  -0.400563  2.528018\n",
      "  0.547663 -0.364443  0.302127  0.289975  1.39431  -0.742984 -0.523161\n",
      " -0.166067  0.196042 -0.81867   1.820342  0.301298 -0.045174  1.099013\n",
      " -1.042619 -1.981761  0.179432  0.832562  0.182172  0.185834  1.716998\n",
      " -0.029499  0.131582 -1.881815 -0.618635 -0.102642 -0.314189 -0.415502\n",
      "  0.854686  0.703377 -1.313839  0.021766 -1.247788  0.2234   -0.484226\n",
      "  0.308503 -2.286786 -0.44694  -0.556265  0.29222   0.270662  0.009794\n",
      " -0.197155]\n",
      "(50,)\n",
      "[-0.698241  0.213898  0.394859  0.333442 -0.00285   0.104044  2.417434\n",
      "  0.751385 -0.112971  0.143915 -0.469072  0.291726 -0.360177 -1.662466\n",
      " -0.279943  0.788703 -0.422262  1.738358 -0.145795  0.268173  0.932194\n",
      " -0.498397 -2.315247  0.070193  0.600768  0.011443 -0.357019  0.700192\n",
      " -0.134333  0.361401 -0.904582 -0.68162   0.982092 -0.225737 -0.606999\n",
      "  0.494298  0.543297 -1.532362 -0.393751 -0.822406 -0.118827 -0.280617\n",
      " -0.25247  -1.791621  0.256596 -0.611498  0.388082  0.040185 -0.282861\n",
      "  0.619882]\n"
     ]
    }
   ],
   "source": [
    "v1 = VECTORS[w1]\n",
    "print(v1.shape)\n",
    "print(v1)\n",
    "v2 = VECTORS[w2]\n",
    "print(v2.shape)\n",
    "print(v2)"
   ]
  },
  {
   "cell_type": "code",
   "execution_count": 10,
   "id": "58954128-0467-4125-b1c0-1358dc383c25",
   "metadata": {},
   "outputs": [
    {
     "name": "stdout",
     "output_type": "stream",
     "text": [
      "0.8298255797830086\n"
     ]
    }
   ],
   "source": [
    "print(get_cosine_similarity_of_words(w1, w2))"
   ]
  },
  {
   "cell_type": "code",
   "execution_count": 11,
   "id": "b095ddd5-0e67-4f26-89af-46af7eeb33c6",
   "metadata": {},
   "outputs": [
    {
     "data": {
      "text/plain": [
       "[('frau', 0.9999999999999998),\n",
       " ('mutter', 0.9614790913240593),\n",
       " ('schwester', 0.9276123982363114),\n",
       " ('kind', 0.8916281056124479),\n",
       " ('ehefrau', 0.8833048119519473),\n",
       " ('tochter', 0.8781051351396821),\n",
       " ('vater', 0.8731896960239562),\n",
       " ('tante', 0.8727194721726078),\n",
       " ('großmutter', 0.8671961833438162),\n",
       " ('ehemann', 0.8654313443757703),\n",
       " ('eltern', 0.8599873403880165),\n",
       " ('freundin', 0.8549514881071417),\n",
       " ('ihr', 0.8529273540051311),\n",
       " ('mannes', 0.8499030612682443),\n",
       " ('geliebte', 0.8432935628288324),\n",
       " ('kinder', 0.8428390040786509),\n",
       " ('verheiratet', 0.8388101449279932),\n",
       " ('junge', 0.8381482521479995),\n",
       " ('tod', 0.8339307610198841),\n",
       " ('ihrem', 0.8322310678388922)]"
      ]
     },
     "execution_count": 11,
     "metadata": {},
     "output_type": "execute_result"
    }
   ],
   "source": [
    "get_nearest_words_of_word(w1, limit_results=20)"
   ]
  },
  {
   "cell_type": "code",
   "execution_count": 12,
   "id": "9cdd9985-1c19-475e-91aa-dd7e9b3a836e",
   "metadata": {},
   "outputs": [
    {
     "data": {
      "text/plain": [
       "[('mann', 1.0),\n",
       " ('frau', 0.8298255797830086),\n",
       " ('soldat', 0.823139433436152),\n",
       " ('ihr', 0.8229130278788662),\n",
       " ('leben', 0.8189180771228854),\n",
       " ('sein', 0.811323180844243),\n",
       " ('kind', 0.7984683648906311),\n",
       " ('eigentlich', 0.798228172745085),\n",
       " ('vater', 0.7977366591056769),\n",
       " ('junge', 0.7975937693043107),\n",
       " ('ihm', 0.7864064825134575),\n",
       " ('seine', 0.7805807865573718),\n",
       " ('ein', 0.7805703001912596),\n",
       " ('person', 0.7802008228184328),\n",
       " ('ihn', 0.7787931154834025),\n",
       " ('gefallen', 0.7771855154466557),\n",
       " ('amerikaner', 0.7766901603034483),\n",
       " ('hand', 0.7742602271320155),\n",
       " ('ihrem', 0.7738789614815925),\n",
       " ('held', 0.7735517926568717)]"
      ]
     },
     "execution_count": 12,
     "metadata": {},
     "output_type": "execute_result"
    }
   ],
   "source": [
    "get_nearest_words_of_word(w2, limit_results=20)"
   ]
  }
 ],
 "metadata": {
  "kernelspec": {
   "display_name": "Python 3 (ipykernel)",
   "language": "python",
   "name": "python3"
  },
  "language_info": {
   "codemirror_mode": {
    "name": "ipython",
    "version": 3
   },
   "file_extension": ".py",
   "mimetype": "text/x-python",
   "name": "python",
   "nbconvert_exporter": "python",
   "pygments_lexer": "ipython3",
   "version": "3.9.2"
  }
 },
 "nbformat": 4,
 "nbformat_minor": 5
}
